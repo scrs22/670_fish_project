{
 "cells": [
  {
   "cell_type": "code",
   "execution_count": 1,
   "metadata": {
    "collapsed": true
   },
   "outputs": [],
   "source": [
    "from pathlib import Path\n",
    "\n",
    "import os\n",
    "import shutil"
   ]
  },
  {
   "cell_type": "code",
   "execution_count": 2,
   "metadata": {
    "collapsed": false
   },
   "outputs": [],
   "source": [
    "path_to_original_dataset = Path('./dataset_uncropped_split')\n",
    "path_to_new_dataset = Path('./unified_fish_dataset')"
   ]
  },
  {
   "cell_type": "code",
   "execution_count": 4,
   "metadata": {
    "collapsed": false
   },
   "outputs": [
    {
     "name": "stdout",
     "output_type": "stream",
     "text": [
      "Finished Processing scallop\n",
      "Finished Processing herring\n",
      "Error Saving Fish Data. [Errno 2] No such file or directory: 'dataset_uncropped_split/train/dead-scallop/labels/23.txt'\n",
      "Error Saving Fish Data. [Errno 2] No such file or directory: 'dataset_uncropped_split/train/dead-scallop/labels/26.txt'\n",
      "Finished Processing dead-scallop\n",
      "Finished Processing skate\n",
      "Finished Processing flounder\n",
      "Error Saving Fish Data. [Errno 2] No such file or directory: 'dataset_uncropped_split/train/roundfish/labels/470.txt'\n",
      "Error Saving Fish Data. [Errno 2] No such file or directory: 'dataset_uncropped_split/train/roundfish/labels/305.txt'\n",
      "Error Saving Fish Data. [Errno 2] No such file or directory: 'dataset_uncropped_split/train/roundfish/labels/675.txt'\n",
      "Error Saving Fish Data. [Errno 2] No such file or directory: 'dataset_uncropped_split/train/roundfish/labels/2207.txt'\n",
      "Error Saving Fish Data. [Errno 2] No such file or directory: 'dataset_uncropped_split/train/roundfish/labels/272.txt'\n",
      "Error Saving Fish Data. [Errno 2] No such file or directory: 'dataset_uncropped_split/train/roundfish/labels/1059.txt'\n",
      "Error Saving Fish Data. [Errno 2] No such file or directory: 'dataset_uncropped_split/train/roundfish/labels/469.txt'\n",
      "Error Saving Fish Data. [Errno 2] No such file or directory: 'dataset_uncropped_split/train/roundfish/labels/778.txt'\n",
      "Error Saving Fish Data. [Errno 2] No such file or directory: 'dataset_uncropped_split/train/roundfish/labels/2046.txt'\n",
      "Finished Processing roundfish\n",
      "Finished Processing scallop\n",
      "Finished Processing herring\n",
      "Finished Processing dead-scallop\n",
      "Finished Processing skate\n",
      "Finished Processing flounder\n",
      "Finished Processing roundfish\n",
      "Error Saving Fish Data. [Errno 2] No such file or directory: 'dataset_uncropped_split/test/scallop/labels/275.txt'\n",
      "Finished Processing scallop\n",
      "Finished Processing herring\n",
      "Finished Processing dead-scallop\n",
      "Finished Processing skate\n",
      "Finished Processing flounder\n",
      "Finished Processing roundfish\n"
     ]
    }
   ],
   "source": [
    "for current_set in ['train', 'val', 'test']:\n",
    "    fish_counter = 0\n",
    "    target_images_root = Path(path_to_new_dataset / (current_set+'/images'))\n",
    "    target_labels_root = Path(path_to_new_dataset / (current_set+'/labels'))\n",
    "    os.makedirs(target_images_root, exist_ok=True)\n",
    "    os.makedirs(target_labels_root, exist_ok=True)\n",
    "    for fish_type_folder in Path(path_to_original_dataset / current_set).iterdir():\n",
    "\n",
    "        if fish_type_folder.is_dir():\n",
    "            fish_type = fish_type_folder.name\n",
    "\n",
    "            images_folder = Path(fish_type_folder / 'images')\n",
    "            labels_folder = Path(fish_type_folder / 'labels')\n",
    "\n",
    "            for fish_image_file in images_folder.iterdir():\n",
    "                num_processed = 0\n",
    "                if fish_image_file.is_file():\n",
    "                    try:\n",
    "                        fish_counter += 1\n",
    "                        num_processed += 1\n",
    "                        fish_id = fish_image_file.name[:-4]\n",
    "                        fish_data_file = Path(labels_folder / (fish_id+'.txt'))\n",
    "                        shutil.copy(fish_image_file, Path(target_images_root / (str(fish_counter) + '.png')))\n",
    "                        shutil.copy(fish_data_file, Path(target_labels_root / (str(fish_counter) + '.txt')))\n",
    "                    except Exception as e:\n",
    "                        print(\"Error Saving Fish Data.\", e)\n",
    "                if num_processed % 100 == 0:\n",
    "                    print(f\"Processed {num_processed} {fish_type} Images and Labels.\")\n",
    "            print(f\"Finished Processing {fish_type}\")"
   ]
  },
  {
   "cell_type": "code",
   "execution_count": null,
   "metadata": {
    "collapsed": false
   },
   "outputs": [],
   "source": []
  },
  {
   "cell_type": "code",
   "execution_count": null,
   "metadata": {
    "collapsed": false
   },
   "outputs": [],
   "source": []
  }
 ],
 "metadata": {
  "kernelspec": {
   "display_name": "Python 3.10.8 64-bit",
   "language": "python",
   "name": "python3"
  },
  "language_info": {
   "codemirror_mode": {
    "name": "ipython",
    "version": 2
   },
   "file_extension": ".py",
   "mimetype": "text/x-python",
   "name": "python",
   "nbconvert_exporter": "python",
   "pygments_lexer": "ipython2",
   "version": "3.10.8"
  },
  "vscode": {
   "interpreter": {
    "hash": "aee8b7b246df8f9039afb4144a1f6fd8d2ca17a180786b69acc140d282b71a49"
   }
  }
 },
 "nbformat": 4,
 "nbformat_minor": 0
}
